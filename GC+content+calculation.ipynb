{
 "cells": [
  {
   "cell_type": "markdown",
   "metadata": {},
   "source": [
    "# GC Content Calculation in DNA Sequence"
   ]
  },
  {
   "cell_type": "code",
   "execution_count": 4,
   "metadata": {},
   "outputs": [
    {
     "name": "stdout",
     "output_type": "stream",
     "text": [
      "['G', 'T', 'T', 'T', 'G', 'G', 'G', 'G', 'C', 'C', 'G', 'G', 'C', 'C', 'C', 'A', 'G', 'G', 'C', 'C', 'T', 'A', 'G', 'G', 'G', 'T', 'G', 'T', 'G', 'G', 'A', 'G', 'G', 'A', 'G', 'C', 'C', 'T', 'T', 'G', 'C', 'C', 'A', 'T', 'C', 'G', 'G', 'G', 'C', 'T', 'T', 'C', 'C', 'T', 'G', 'T', 'C', 'T', 'C', 'T', 'C', 'T', 'T', 'C', 'A', 'T', 'T', 'T', 'A', 'A']\n"
     ]
    }
   ],
   "source": [
    "dna_string = \"GTTTGGGGCCGGCCCAGGCCTAGGGTGTGGAGGAGCCTTGCCATCGGGCTTCCTGTCTCTCTTCATTTAA\"\n",
    "dna_list = list(dna_string)\n",
    "print(dna_list)"
   ]
  },
  {
   "cell_type": "code",
   "execution_count": 5,
   "metadata": {
    "collapsed": true
   },
   "outputs": [],
   "source": [
    "GC_count = dna_list.count(\"G\") + dna_list.count(\"C\")"
   ]
  },
  {
   "cell_type": "code",
   "execution_count": 6,
   "metadata": {},
   "outputs": [
    {
     "data": {
      "text/plain": [
       "60.0"
      ]
     },
     "execution_count": 6,
     "metadata": {},
     "output_type": "execute_result"
    }
   ],
   "source": [
    "def GC_content(sequence):\n",
    "     GC_count = sequence.count(\"G\") + sequence.count(\"C\")\n",
    "     GC_fraction = float(GC_count) / len(sequence)\n",
    "     return 100 * GC_fraction\n",
    "GC_content(dna_list)"
   ]
  }
 ],
 "metadata": {
  "kernelspec": {
   "display_name": "Python 3",
   "language": "python",
   "name": "python3"
  },
  "language_info": {
   "codemirror_mode": {
    "name": "ipython",
    "version": 3
   },
   "file_extension": ".py",
   "mimetype": "text/x-python",
   "name": "python",
   "nbconvert_exporter": "python",
   "pygments_lexer": "ipython3",
   "version": "3.6.1"
  }
 },
 "nbformat": 4,
 "nbformat_minor": 2
}
